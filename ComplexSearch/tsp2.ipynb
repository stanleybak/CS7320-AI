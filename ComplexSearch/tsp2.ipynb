{
  "cells": [
    {
      "cell_type": "markdown",
      "metadata": {
        "id": "VxJz-wZxd5NP"
      },
      "source": [
        "# Two Traveling Salespeople\n",
        "\n",
        "Points: 10"
      ]
    },
    {
      "cell_type": "markdown",
      "metadata": {
        "id": "r-NhdkNXd5NR"
      },
      "source": [
        "## Two-person Version of the [Traveling Salesman Problem](https://en.wikipedia.org/wiki/Travelling_salesman_problem)\n",
        "\n",
        "* __Goal:__ Find the two tours which collectively visit each of $n$ cities exactly once and return back to the same starting city. Given are pairwise distances between cities, where $d_{i,j}$ is the distance from city $i$ to city $j$.\n",
        "\n",
        "* __State space:__ Each state represents a pair of tours, where the first element of the pair are the cities to visit for the first person and the second element are the cities to visit for the second person. The cities are numbered and the tours can be expressed a pair of vectors $(\\pi_1, \\pi_2)$ with the order in which the cities are visited. That is, $\\pi_i(1)$ is the index of the first city to visit by the $i$th person ($i$ either is 1 or 2), $\\pi_i(2)$ the index of the second city to visit by the $i$th person, and so on.\n",
        "\n",
        "* __Objective function:__ Minimize the maximum tour length for both people. Informally, the cities should be divided up roughly evenly between the two people so that neither one has a tour that is too long.\n",
        "\n",
        "The optimization problem is to find the optimal pair of tours $\\pi_1^*$ and $\\pi_2^*$ through the $n$ cities and which return to the city:\n",
        "\n",
        "  > minimize: $\\max(\\mathrm{tourlength}(\\pi_1), \\mathrm{tourlength}(\\pi_2))$\n",
        "  where $\\mathrm{tourlength}(\\pi_i) = d_{\\pi_i(n),\\pi_i(1)} + \\sum_{j = 1}^{n-1} d_{\\pi_i(j),\\pi_i(j+1)}$\n",
        "  >\n",
        "  > subject to: every city must be visted exactly once\n"
      ]
    },
    {
      "cell_type": "markdown",
      "metadata": {
        "id": "gRdgNpQCd5NR"
      },
      "source": [
        "## Helper functions"
      ]
    },
    {
      "cell_type": "code",
      "execution_count": 49,
      "metadata": {
        "id": "8bV-KqkWd5NS"
      },
      "outputs": [],
      "source": [
        "import numpy as np\n",
        "import pandas as pd\n",
        "import matplotlib.pyplot as plt\n",
        "import math\n",
        "\n",
        "np.set_printoptions(precision=2)\n",
        "\n",
        "np.random.seed(0) # make the results repeatable"
      ]
    },
    {
      "cell_type": "code",
      "execution_count": 55,
      "metadata": {
        "id": "IzvSe7CTd5NS",
        "outputId": "97e8121a-0214-4821-81e7-dab8a2340510",
        "colab": {
          "base_uri": "https://localhost:8080/"
        }
      },
      "outputs": [
        {
          "output_type": "execute_result",
          "data": {
            "text/plain": [
              "([3, 2, 1, 7], [8, 6, 5, 4, 9, 0])"
            ]
          },
          "metadata": {},
          "execution_count": 55
        }
      ],
      "source": [
        "def random_tour_pair(n):\n",
        "    \"\"\"Create two random tours with n cities\"\"\"\n",
        "\n",
        "    tour = list(range(n))\n",
        "    np.random.shuffle(tour)\n",
        "\n",
        "    split_index = np.random.randint(0, n-1)\n",
        "    tour1 = tour[:split_index]\n",
        "    tour2 = tour[split_index:]\n",
        "\n",
        "    return tour1, tour2\n",
        "\n",
        "random_tour_pair(10)"
      ]
    },
    {
      "cell_type": "code",
      "execution_count": 56,
      "metadata": {
        "scrolled": true,
        "id": "p5_g7Z4Wd5NT",
        "outputId": "a6e75be2-a12b-4f0f-d7a5-58af3995bc8b",
        "colab": {
          "base_uri": "https://localhost:8080/"
        }
      },
      "outputs": [
        {
          "output_type": "stream",
          "name": "stdout",
          "text": [
            "Positions:\n",
            "          x         y\n",
            "0  0.681820  0.363711\n",
            "1  0.359508  0.570197\n",
            "2  0.437032  0.438602\n",
            "3  0.697631  0.988374\n",
            "4  0.060225  0.102045\n",
            "5  0.666767  0.208877\n",
            "6  0.670638  0.161310\n",
            "7  0.210383  0.653108\n",
            "8  0.128926  0.253292\n",
            "9  0.315428  0.466311\n",
            "Distance matrix:\n",
            "          0         1         2         3         4         5         6  \\\n",
            "0  0.000000  0.382782  0.255988  0.624863  0.674425  0.155564  0.202710   \n",
            "1  0.382782  0.000000  0.152733  0.537773  0.555640  0.474300  0.513800   \n",
            "2  0.255988  0.152733  0.000000  0.608409  0.505226  0.324887  0.362578   \n",
            "3  0.624863  0.537773  0.608409  0.000000  1.091726  0.780108  0.827505   \n",
            "4  0.674425  0.555640  0.505226  1.091726  0.000000  0.615878  0.613283   \n",
            "5  0.155564  0.474300  0.324887  0.780108  0.615878  0.000000  0.047725   \n",
            "6  0.202710  0.513800  0.362578  0.827505  0.613283  0.047725  0.000000   \n",
            "7  0.553177  0.170624  0.312063  0.591451  0.571155  0.636889  0.673573   \n",
            "8  0.563812  0.391914  0.359540  0.929393  0.166119  0.539671  0.549465   \n",
            "9  0.380486  0.112851  0.124721  0.647015  0.444768  0.435558  0.468188   \n",
            "\n",
            "          7         8         9  \n",
            "0  0.553177  0.563812  0.380486  \n",
            "1  0.170624  0.391914  0.112851  \n",
            "2  0.312063  0.359540  0.124721  \n",
            "3  0.591451  0.929393  0.647015  \n",
            "4  0.571155  0.166119  0.444768  \n",
            "5  0.636889  0.539671  0.435558  \n",
            "6  0.673573  0.549465  0.468188  \n",
            "7  0.000000  0.408030  0.214308  \n",
            "8  0.408030  0.000000  0.283126  \n",
            "9  0.214308  0.283126  0.000000  )\n"
          ]
        }
      ],
      "source": [
        "from scipy.spatial.distance import pdist\n",
        "from scipy.spatial.distance import squareform\n",
        "\n",
        "def random_tsp(n):\n",
        "    \"\"\"\n",
        "    Create a random (Euclidean) traveling salesman problem. Choose n points randomly in a 1 x 1 unit square and calulates a\n",
        "    pairwise Euclidean distance matrix.\n",
        "    \"\"\"\n",
        "\n",
        "    pos = pd.DataFrame({\n",
        "        \"x\" : np.random.uniform(size = n),\n",
        "        \"y\" : np.random.uniform(size = n)\n",
        "    })\n",
        "\n",
        "    dist = squareform(pdist(pos))\n",
        "\n",
        "    return({\"pos\": pos, \"dist\": dist})\n",
        "\n",
        "tsp = random_tsp(10)\n",
        "\n",
        "print(f\"Positions:\\n{tsp['pos']}\")\n",
        "print(f\"Distance matrix:\\n{pd.DataFrame(tsp['dist'])})\")"
      ]
    },
    {
      "cell_type": "code",
      "execution_count": 59,
      "metadata": {
        "id": "idsfYROad5NU",
        "outputId": "67514243-6617-4caf-bdec-224ec0bb807c",
        "colab": {
          "base_uri": "https://localhost:8080/"
        }
      },
      "outputs": [
        {
          "output_type": "execute_result",
          "data": {
            "text/plain": [
              "3.0335512727992278"
            ]
          },
          "metadata": {},
          "execution_count": 59
        }
      ],
      "source": [
        "def tour_pair_max_length(tsp, tour_pair):\n",
        "   \"\"\"Calculate the maximum length of a pair of tours, i.e., the objective function.\"\"\"\n",
        "\n",
        "   tour0_len = tour_length(tsp, tour_pair[0])\n",
        "   tour1_len = tour_length(tsp, tour_pair[1])\n",
        "\n",
        "   return max(tour0_len, tour1_len)\n",
        "\n",
        "def tour_length(tsp, tour):\n",
        "    \"\"\"Caclulate the length of a single tour\"\"\"\n",
        "\n",
        "    # make sure tour is a Python list (not an array or a numpy.array)\n",
        "    if not isinstance(tour, list): tour = tour.tolist()\n",
        "\n",
        "    tl = 0\n",
        "    dist = tsp[\"dist\"]\n",
        "\n",
        "    for i in range(len(tour)-1):\n",
        "        tl += dist[tour[i], tour[i+1]]\n",
        "\n",
        "    tl += dist[tour[-1], tour[0]]\n",
        "\n",
        "    return(tl)\n",
        "\n",
        "np.random.seed(0) # make the results repeatable\n",
        "tour_pair = random_tour_pair(10)\n",
        "tour_pair_max_length(tsp, tour_pair)"
      ]
    },
    {
      "cell_type": "code",
      "execution_count": 65,
      "metadata": {
        "scrolled": true,
        "id": "1p1_fmt5d5NU",
        "outputId": "3639185c-df6b-48e3-ccee-c91cb7210eaa",
        "colab": {
          "base_uri": "https://localhost:8080/",
          "height": 465
        }
      },
      "outputs": [
        {
          "output_type": "stream",
          "name": "stdout",
          "text": [
            "Tour length (red): 1.1\n",
            "Tour length (blue): 3.03\n"
          ]
        },
        {
          "output_type": "display_data",
          "data": {
            "text/plain": [
              "<Figure size 640x480 with 1 Axes>"
            ],
            "image/png": "[encoded data removed]"
          },
          "metadata": {}
        }
      ],
      "source": [
        "def show_2tsp(tsp, tour_pair = None):\n",
        "    \"\"\"display the twoperson traveling salesman problem and a tour pair.\"\"\"\n",
        "\n",
        "    pos = tsp[\"pos\"]\n",
        "\n",
        "    plt.scatter(pos[\"x\"], pos[\"y\"], color='black')\n",
        "\n",
        "    if tour_pair is not None:\n",
        "      colors = ['red', 'blue']\n",
        "\n",
        "      for tour, color in zip(tour_pair, colors):\n",
        "        # make sure tour is a Python list (not an array or a numpy.array)\n",
        "        if not isinstance(tour, list): tour = tour.tolist()\n",
        "\n",
        "        print(f\"Tour length ({color}): {round(tour_length(tsp, tour), 2)}\")\n",
        "        tour_x_list = [pos.loc[i, 'x'] for i in tour]\n",
        "        tour_y_list = [pos.loc[i, 'y'] for i in tour]\n",
        "\n",
        "        # wrap back to start\n",
        "        tour_x_list.append(tour_x_list[0])\n",
        "        tour_y_list.append(tour_y_list[0])\n",
        "\n",
        "        plt.plot(tour_x_list, tour_y_list, color)\n",
        "\n",
        "    plt.show()\n",
        "\n",
        "show_2tsp(tsp, tour_pair)"
      ]
    },
    {
      "cell_type": "markdown",
      "metadata": {
        "id": "nFryJxadd5NX"
      },
      "source": [
        "## Steepest-ascent Hill Climbing Search [3 Points]\n",
        "\n",
        "Come up with reasonable definition for local moves and implement a steepest-ascent hill climbing strategy. Measure and report the performance of this on 50 random problem instances. Report the average objective function reached over all problem instances, as well as the average number of local moves analyzed."
      ]
    },
    {
      "cell_type": "code",
      "execution_count": null,
      "metadata": {
        "scrolled": false,
        "id": "GsLKOoYdd5NX"
      },
      "outputs": [],
      "source": [
        "# Code goes here"
      ]
    },
    {
      "cell_type": "markdown",
      "metadata": {
        "id": "pU6HJbzzd5NY"
      },
      "source": [
        "## Steepest-ascent Hill Climbing Search with Random Restarts [1 Point]\n",
        "\n",
        "Modify the code to include random restarts once improvement is no longer possible. For a fixed problem instance, analyze the improvement in the objective function as more restarts are done. Plot the number of restarts on the x axis and the objective function on the y axis."
      ]
    },
    {
      "cell_type": "code",
      "execution_count": null,
      "metadata": {
        "scrolled": false,
        "id": "WpprDh59d5NY"
      },
      "outputs": [],
      "source": [
        "# Code goes here"
      ]
    },
    {
      "cell_type": "markdown",
      "metadata": {
        "id": "fP-l7Kyyd5NY"
      },
      "source": [
        "## Stochastic Hill Climbing [1 Points]\n",
        "\n",
        "Implement an approach that chooses randomly from among all uphill moves. Measure and report the performance of this on the same 50 random problem instances as was done earlier. Report the average objective function reached over all problem instances, as well as the average number of local moves analyzed."
      ]
    },
    {
      "cell_type": "code",
      "execution_count": null,
      "metadata": {
        "id": "UIjQZK52d5NY"
      },
      "outputs": [],
      "source": [
        "# Code goes here"
      ]
    },
    {
      "cell_type": "markdown",
      "metadata": {
        "id": "aqIFjsMjd5NY"
      },
      "source": [
        "## First-choice Hill Climbing [1 Point]\n",
        "\n",
        "First-choice hill climbing is a type of stochastic hill climbing that generates one random local neighbor at a time and accept it if it has a better objective function value than the current state. Implement this and report the performance of on 50 the same random problem instances. Report the average objective function reached over all problem instances, as well as the average number of local moves analyzed."
      ]
    },
    {
      "cell_type": "code",
      "execution_count": null,
      "metadata": {
        "id": "aDAf5PBfd5NY"
      },
      "outputs": [],
      "source": [
        "# Code goes here"
      ]
    },
    {
      "cell_type": "markdown",
      "metadata": {
        "id": "l4O3sYy6d5NZ"
      },
      "source": [
        "## Simulated Annealing [2 Points]\n",
        "\n",
        "Implement an algorithm that uses simulated annealing to solve the problem, as described in the lectures and book (Section 4.1.2). Experiment with hyperparameters like the temperature schedule and thresholds until you find values that work well."
      ]
    },
    {
      "cell_type": "code",
      "execution_count": null,
      "metadata": {
        "id": "GACSBzqOd5NZ"
      },
      "outputs": [],
      "source": [
        "# Code goes here"
      ]
    },
    {
      "cell_type": "markdown",
      "metadata": {
        "id": "xIEfsi1Vd5NZ"
      },
      "source": [
        "## Compare Performance [2 Points]\n",
        "\n",
        "Compare simulated annealing with random restarts and stochastic hill climbing. Analyze which algorithm is better for 10 cities, 20 cities, and 50 cities. To make the comparison fair, try to ensure the time taken for each approach is roughly the same.\n",
        "\n",
        "For timing you can use the `time` package."
      ]
    },
    {
      "cell_type": "code",
      "execution_count": null,
      "metadata": {
        "id": "fqBHyEE0d5NZ",
        "outputId": "8f3c2c81-2aa7-4ca8-e7f0-ad926fd7f59b"
      },
      "outputs": [
        {
          "name": "stdout",
          "output_type": "stream",
          "text": [
            "Do something\n",
            "This took: 0.17380714416503906 milliseconds\n"
          ]
        }
      ],
      "source": [
        "import time\n",
        "\n",
        "t0 = time.time()\n",
        "print(\"Do something\")\n",
        "t1 = time.time()\n",
        "\n",
        "print(f\"This took: {(t1-t0) * 1e3} milliseconds\")"
      ]
    },
    {
      "cell_type": "code",
      "execution_count": null,
      "metadata": {
        "id": "OfSPR4M_d5NZ"
      },
      "outputs": [],
      "source": [
        "# Code and results go here"
      ]
    },
    {
      "cell_type": "markdown",
      "source": [
        "## Tour US States\n",
        "\n",
        "Take your best appraoch and try to find the minimum objective value for the two salesman problem going around the 48 lower US states. Each state is visited by getting to its centroid and it is assumed straight line distances between 2-d GPS coordinates is the way we want to measure distances.\n",
        "\n",
        "Plot the minimum 2-tour that you find in red and blue, like was done before for the randomly generated points."
      ],
      "metadata": {
        "id": "1ZNoX8aar-Y-"
      }
    },
    {
      "cell_type": "code",
      "source": [],
      "metadata": {
        "id": "WIBq8zJxsjYg"
      },
      "execution_count": null,
      "outputs": []
    },
    {
      "cell_type": "markdown",
      "source": [
        "\n",
        "\n",
        "---\n",
        "Assignment adapted from [Michael Hahsler](https://github.com/mhahsler/CS7320-AI) under [CC BY-SA](https://creativecommons.org/licenses/by-sa/4.0/deed.en) license.\n"
      ],
      "metadata": {
        "id": "V76CPW8od928"
      }
    }
  ],
  "metadata": {
    "kernelspec": {
      "display_name": "Python 3",
      "language": "python",
      "name": "python3"
    },
    "language_info": {
      "codemirror_mode": {
        "name": "ipython",
        "version": 3
      },
      "file_extension": ".py",
      "mimetype": "text/x-python",
      "name": "python",
      "nbconvert_exporter": "python",
      "pygments_lexer": "ipython3",
      "version": "3.8.5"
    },
    "colab": {
      "provenance": []
    }
  },
  "nbformat": 4,
  "nbformat_minor": 0
}